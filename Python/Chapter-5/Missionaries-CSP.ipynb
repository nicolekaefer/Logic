{
 "cells": [
  {
   "cell_type": "markdown",
   "metadata": {},
   "source": [
    "# Saving the Infidels\n",
    "\n",
    "In this notebook we want so solve a famous search problem, which is usually known as the\n",
    "[missionaries and cannibals problem](https://en.wikipedia.org/wiki/Missionaries_and_cannibals_problem):\n",
    "Three missinaries and three infidels have to cross a river in order to get to a church where the infidels can be baptized.  In order to cross the river, they have to take a small boat that can take at most two passengers.  If at any moments at any shore there are more infidels than missionaries, then the missionaries have a problem, since the infidels have a diet that includes human flesh.\n",
    "\n",
    "We will encode this problem as a *constraint satisfaction problem*.  In order to do so, we assume that the\n",
    "problem can be solved with $n\\in\\mathbb{N}$ crossing of the river.  We use the following variables:\n",
    "* $\\texttt{M}i$ for $i\\in\\{0,\\cdots,n\\}$ is the number of missionaries on the western shore after the \n",
    "  $i^{\\textrm{th}}$ crossing.\n",
    "* $\\texttt{C}i$ for $i\\in\\{0,\\cdots,n\\}$ is the number of infidels on the western shore after the \n",
    "  $i^{\\textrm{th}}$ crossing.\n",
    "* $\\texttt{MB}i$ for $i\\in\\{1,\\cdots,n\\}$ is the number of missionaries that cross the river\n",
    "  during the $i^{\\textrm{th}}$ crossing.\n",
    "* $\\texttt{CB}i$ for $i\\in\\{1,\\cdots,n\\}$ is the number of infidels that cross the river\n",
    "  during the $i^{\\textrm{th}}$ crossing.  "
   ]
  },
  {
   "cell_type": "markdown",
   "metadata": {},
   "source": [
    "## Auxiliary Functions"
   ]
  },
  {
   "cell_type": "markdown",
   "metadata": {},
   "source": [
    "The function `flatten` takes a list of lists `LoL` and returns a list containing all the elements contained in any of the lists in `LoL`."
   ]
  },
  {
   "cell_type": "code",
   "execution_count": 1,
   "metadata": {},
   "outputs": [],
   "source": [
    "def flatten(LoL):\n",
    "    return [x for L in LoL for x in L]"
   ]
  },
  {
   "cell_type": "code",
   "execution_count": 2,
   "metadata": {},
   "outputs": [
    {
     "data": {
      "text/plain": [
       "[1, 2, 3, 4]"
      ]
     },
     "execution_count": 2,
     "metadata": {},
     "output_type": "execute_result"
    }
   ],
   "source": [
    "flatten([[1,2], [3,4]])"
   ]
  },
  {
   "cell_type": "markdown",
   "metadata": {},
   "source": [
    "The function `no_problem(i)` takes an integer `i` of as its input.\n",
    "It returns a formula that is true if there is no problem on either shore of the river after the $i^{\\textrm{th}}$ crossing.  There is no problem if any of the following conditions is true:\n",
    "* There are no missionaries on the western side of the shore, i.e. \n",
    "  $\\texttt{M}i = 0$.  \n",
    "  Then all missionaries are on the eastern side of the shore.\n",
    "* All missionaries are on the western side of the shore, i.e. $\\texttt{M}i = 3$.\n",
    "  Then there are no missionaries on the eastern side of the shore.\n",
    "* The number of missionaries on the western side is the same as the number of \n",
    "  infidels on that side, i.e. $\\texttt{M}i = \\texttt{C}i$.  Then the numbers of \n",
    "  missionaries and infidels have to match on the eastern shore as well."
   ]
  },
  {
   "cell_type": "code",
   "execution_count": 3,
   "metadata": {},
   "outputs": [],
   "source": [
    "def no_problem(i):\n",
    "    return f'M{i} == 0 or M{i} == 3 or M{i} == C{i}'"
   ]
  },
  {
   "cell_type": "code",
   "execution_count": 4,
   "metadata": {},
   "outputs": [
    {
     "data": {
      "text/plain": [
       "'M7 == 0 or M7 == 3 or M7 == C7'"
      ]
     },
     "execution_count": 4,
     "metadata": {},
     "output_type": "execute_result"
    }
   ],
   "source": [
    "no_problem(7)"
   ]
  },
  {
   "cell_type": "markdown",
   "metadata": {},
   "source": [
    "The function `boat_ok` is true if the boat is neither empty nor overloaded during the $i^{\\textrm{th}}$ crossing, i.e. the number of passengers is either 1 or 2."
   ]
  },
  {
   "cell_type": "code",
   "execution_count": 5,
   "metadata": {},
   "outputs": [],
   "source": [
    "def boat_ok(i):\n",
    "    return f'1 <= MB{i} + CB{i} <= 2'"
   ]
  },
  {
   "cell_type": "code",
   "execution_count": 6,
   "metadata": {},
   "outputs": [
    {
     "data": {
      "text/plain": [
       "'1 <= MB3 + CB3 <= 2'"
      ]
     },
     "execution_count": 6,
     "metadata": {},
     "output_type": "execute_result"
    }
   ],
   "source": [
    "boat_ok(3)"
   ]
  },
  {
   "cell_type": "markdown",
   "metadata": {},
   "source": [
    "The function `change_ok(i)` returns a set of formulas that is true if the missionaries starting on one shore arrive at the opposite  shore after the $i^{\\textrm{th}}$ crossing.  Note that if $i$ is odd, then during the $i^{\\textrm{th}}$ crossing the boat travels from the western shore to the eastern shore.  If $i$ is even, the boat travels from the eastern shore to the western shore."
   ]
  },
  {
   "cell_type": "code",
   "execution_count": 7,
   "metadata": {},
   "outputs": [],
   "source": [
    "def change_ok(i):\n",
    "    if i % 2 == 1:\n",
    "        return { f'M{i+1} == M{i} + MB{i+1}', f'C{i+1} == C{i} + CB{i+1}'}\n",
    "    else:\n",
    "        return { f'M{i+1} == M{i} - MB{i+1}', f'C{i+1} == C{i} - CB{i+1}'}"
   ]
  },
  {
   "cell_type": "code",
   "execution_count": 8,
   "metadata": {},
   "outputs": [
    {
     "data": {
      "text/plain": [
       "{'C1 == C0 - CB1', 'M1 == M0 - MB1'}"
      ]
     },
     "execution_count": 8,
     "metadata": {},
     "output_type": "execute_result"
    }
   ],
   "source": [
    "change_ok(0)"
   ]
  },
  {
   "cell_type": "code",
   "execution_count": 9,
   "metadata": {},
   "outputs": [
    {
     "data": {
      "text/plain": [
       "{'C2 == C1 + CB2', 'M2 == M1 + MB2'}"
      ]
     },
     "execution_count": 9,
     "metadata": {},
     "output_type": "execute_result"
    }
   ],
   "source": [
    "change_ok(1)"
   ]
  },
  {
   "cell_type": "markdown",
   "metadata": {},
   "source": [
    "The function `missionaries_CSP` creates a CSP that tries to solve the problem with `n` crossings."
   ]
  },
  {
   "cell_type": "code",
   "execution_count": 10,
   "metadata": {},
   "outputs": [],
   "source": [
    "def missionaries_CSP(n):\n",
    "        \"Returns a CSP encoding the problem.\"\n",
    "        Lists        = [[f'MB{i}', f'CB{i}', f'M{i}', f'C{i}'] for i in range(n+1)]\n",
    "        Variables    = flatten(Lists)\n",
    "        Variables    = Variables[2:] # remove MB0 and CB0\n",
    "        Values       = { 0, 1, 2, 3 }\n",
    "        Constraints  = { 'M0 == 3', 'C0 == 3', f'M{n} == 0', f'C{n} == 0' }\n",
    "        Constraints |= { no_problem(i) for i in range(0, n+1) }\n",
    "        Constraints |= { boat_ok(i)    for i in range(1, n+1) }\n",
    "        for i in range(n):\n",
    "            Constraints |= change_ok(i)\n",
    "        return Variables, Values, Constraints"
   ]
  },
  {
   "cell_type": "code",
   "execution_count": 11,
   "metadata": {},
   "outputs": [
    {
     "data": {
      "text/plain": [
       "(['M0', 'C0', 'MB1', 'CB1', 'M1', 'C1'],\n",
       " {0, 1, 2, 3},\n",
       " {'1 <= MB1 + CB1 <= 2',\n",
       "  'C0 == 3',\n",
       "  'C1 == 0',\n",
       "  'C1 == C0 - CB1',\n",
       "  'M0 == 0 or M0 == 3 or M0 == C0',\n",
       "  'M0 == 3',\n",
       "  'M1 == 0',\n",
       "  'M1 == 0 or M1 == 3 or M1 == C1',\n",
       "  'M1 == M0 - MB1'})"
      ]
     },
     "execution_count": 11,
     "metadata": {},
     "output_type": "execute_result"
    }
   ],
   "source": [
    "missionaries_CSP(1)"
   ]
  },
  {
   "cell_type": "code",
   "execution_count": 12,
   "metadata": {},
   "outputs": [],
   "source": [
    "%run 02-Backtracking-Constraint-Solver.ipynb"
   ]
  },
  {
   "cell_type": "markdown",
   "metadata": {},
   "source": [
    "The function `find_solution` computes a solution to the problem of saving the infidels."
   ]
  },
  {
   "cell_type": "code",
   "execution_count": 13,
   "metadata": {
    "scrolled": true
   },
   "outputs": [],
   "source": [
    "def find_solution():\n",
    "    n = 1\n",
    "    while True:\n",
    "        print(n)\n",
    "        CSP = missionaries_CSP(n)\n",
    "        Solution = solve(CSP)\n",
    "        if Solution != None:\n",
    "            return n, Solution\n",
    "        n += 2"
   ]
  },
  {
   "cell_type": "markdown",
   "metadata": {},
   "source": [
    "On my desktop computer (2017 iMac with 3.4 GHz Quad-Core Intel i5) it takes about 2 seconds to solve the problem. "
   ]
  },
  {
   "cell_type": "code",
   "execution_count": 14,
   "metadata": {},
   "outputs": [
    {
     "name": "stdout",
     "output_type": "stream",
     "text": [
      "1\n",
      "3\n",
      "5\n",
      "7\n",
      "9\n",
      "11\n",
      "CPU times: user 2.65 s, sys: 2.93 ms, total: 2.66 s\n",
      "Wall time: 1.16 s\n"
     ]
    },
    {
     "data": {
      "text/plain": [
       "(11,\n",
       " {'M0': 3,\n",
       "  'C0': 3,\n",
       "  'MB1': 0,\n",
       "  'CB1': 2,\n",
       "  'M1': 3,\n",
       "  'C1': 1,\n",
       "  'MB2': 0,\n",
       "  'CB2': 1,\n",
       "  'M2': 3,\n",
       "  'C2': 2,\n",
       "  'MB3': 0,\n",
       "  'CB3': 2,\n",
       "  'M3': 3,\n",
       "  'C3': 0,\n",
       "  'MB4': 0,\n",
       "  'CB4': 1,\n",
       "  'M4': 3,\n",
       "  'C4': 1,\n",
       "  'MB5': 2,\n",
       "  'CB5': 0,\n",
       "  'M5': 1,\n",
       "  'C5': 1,\n",
       "  'MB6': 1,\n",
       "  'CB6': 1,\n",
       "  'M6': 2,\n",
       "  'C6': 2,\n",
       "  'MB7': 2,\n",
       "  'CB7': 0,\n",
       "  'M7': 0,\n",
       "  'C7': 2,\n",
       "  'MB8': 0,\n",
       "  'CB8': 1,\n",
       "  'M8': 0,\n",
       "  'C8': 3,\n",
       "  'MB9': 0,\n",
       "  'CB9': 2,\n",
       "  'M9': 0,\n",
       "  'C9': 1,\n",
       "  'MB10': 0,\n",
       "  'CB10': 1,\n",
       "  'M10': 0,\n",
       "  'C10': 2,\n",
       "  'MB11': 0,\n",
       "  'CB11': 2,\n",
       "  'M11': 0,\n",
       "  'C11': 0})"
      ]
     },
     "execution_count": 14,
     "metadata": {},
     "output_type": "execute_result"
    }
   ],
   "source": [
    "%%time\n",
    "n, Solution = find_solution()\n",
    "n, Solution"
   ]
  },
  {
   "cell_type": "code",
   "execution_count": 15,
   "metadata": {},
   "outputs": [],
   "source": [
    "def show_solution(Solution, n):\n",
    "    for i in range(n+1):\n",
    "        M  = Solution[f'M{i}']\n",
    "        C  = Solution[f'C{i}']\n",
    "        if i + 1 < n:\n",
    "            MB = Solution[f'MB{i+1}']\n",
    "            CB = Solution[f'CB{i+1}']\n",
    "        print('😇' * M + '🥷' * C + ' ' * 28 + '😇' * (3 - M) + '🥷' * (3 - C))\n",
    "        if i % 2 == 0:\n",
    "            print(' ' * 12 + '>>> ' + '😇'*MB + '🥷'*CB + ' >>>')\n",
    "        elif i % 2 == 1 and i + 1 < n:\n",
    "            print(' ' * 12 + '<<< ' + '😇'*MB + '🥷'*CB + ' <<<')"
   ]
  },
  {
   "cell_type": "code",
   "execution_count": 16,
   "metadata": {},
   "outputs": [
    {
     "name": "stdout",
     "output_type": "stream",
     "text": [
      "😇😇😇🥷🥷🥷                            \n",
      "            >>> 🥷🥷 >>>\n",
      "😇😇😇🥷                            🥷🥷\n",
      "            <<< 🥷 <<<\n",
      "😇😇😇🥷🥷                            🥷\n",
      "            >>> 🥷🥷 >>>\n",
      "😇😇😇                            🥷🥷🥷\n",
      "            <<< 🥷 <<<\n",
      "😇😇😇🥷                            🥷🥷\n",
      "            >>> 😇😇 >>>\n",
      "😇🥷                            😇😇🥷🥷\n",
      "            <<< 😇🥷 <<<\n",
      "😇😇🥷🥷                            😇🥷\n",
      "            >>> 😇😇 >>>\n",
      "🥷🥷                            😇😇😇🥷\n",
      "            <<< 🥷 <<<\n",
      "🥷🥷🥷                            😇😇😇\n",
      "            >>> 🥷🥷 >>>\n",
      "🥷                            😇😇😇🥷🥷\n",
      "            <<< 🥷 <<<\n",
      "🥷🥷                            😇😇😇🥷\n",
      "            >>> 🥷 >>>\n",
      "                            😇😇😇🥷🥷🥷\n"
     ]
    }
   ],
   "source": [
    "show_solution(Solution, n)"
   ]
  }
 ],
 "metadata": {
  "hide_input": false,
  "kernelspec": {
   "display_name": "Python 3 (ipykernel)",
   "language": "python",
   "name": "python3"
  },
  "language_info": {
   "codemirror_mode": {
    "name": "ipython",
    "version": 3
   },
   "file_extension": ".py",
   "mimetype": "text/x-python",
   "name": "python",
   "nbconvert_exporter": "python",
   "pygments_lexer": "ipython3",
   "version": "3.13.3"
  },
  "toc": {
   "base_numbering": 1,
   "nav_menu": {},
   "number_sections": true,
   "sideBar": true,
   "skip_h1_title": false,
   "title_cell": "Table of Contents",
   "title_sidebar": "Contents",
   "toc_cell": false,
   "toc_position": {},
   "toc_section_display": true,
   "toc_window_display": false
  },
  "varInspector": {
   "cols": {
    "lenName": 16,
    "lenType": 16,
    "lenVar": 40
   },
   "kernels_config": {
    "python": {
     "delete_cmd_postfix": "",
     "delete_cmd_prefix": "del ",
     "library": "var_list.py",
     "varRefreshCmd": "print(var_dic_list())"
    },
    "r": {
     "delete_cmd_postfix": ") ",
     "delete_cmd_prefix": "rm(",
     "library": "var_list.r",
     "varRefreshCmd": "cat(var_dic_list()) "
    }
   },
   "types_to_exclude": [
    "module",
    "function",
    "builtin_function_or_method",
    "instance",
    "_Feature"
   ],
   "window_display": false
  }
 },
 "nbformat": 4,
 "nbformat_minor": 4
}
