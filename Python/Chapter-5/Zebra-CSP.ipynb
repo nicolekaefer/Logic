{
 "cells": [
  {
   "cell_type": "code",
   "execution_count": null,
   "metadata": {},
   "outputs": [],
   "source": [
    "from IPython.display import HTML\n",
    "HTML(open('../style.css', 'r').read())"
   ]
  },
  {
   "cell_type": "markdown",
   "metadata": {},
   "source": [
    "# The Zebra Puzzle"
   ]
  },
  {
   "cell_type": "markdown",
   "metadata": {},
   "source": [
    "The following puzzle appeared in the magazine *Life International* on the 17th of December in the year 1962:\n",
    "<ol>\n",
    "    <li>There are five houses.</li>\n",
    "    <li>The Englishman lives in the red house.</li>\n",
    "    <li>The Spaniard owns the dog.</li>\n",
    "    <li>Coffee is drunk in the green house.</li>\n",
    "    <li>The Ukrainian drinks tea.</li>\n",
    "    <li>The green house is immediately to the right of the ivory house.</li>\n",
    "    <li>The Old Gold smoker owns snails.</li>\n",
    "    <li>Kools are smoked in the yellow house.</li>\n",
    "    <li>Milk is drunk in the middle house.</li>\n",
    "    <li>The Norwegian lives in the first house.</li>\n",
    "    <li>The man who smokes Chesterfields lives in the house next to the man with the fox.</li>\n",
    "    <li>Kools are smoked in the house next to the house where the horse is kept.</li>\n",
    "    <li>The Lucky Strike smoker drinks orange juice.</li>\n",
    "    <li>The Japanese smokes Parliaments.</li>\n",
    "    <li>The Norwegian lives next to the blue house.</li>\n",
    "</ol>\n",
    "Furthermore, each of the five houses is painted in a different colour, their inhabitants are of different nationalities, own different pets, drink different beverages, and smoke different brands of cigarettes.\n",
    "\n",
    "Your task is to write a program that answers the following questions: \n",
    "<ul>\n",
    "    <li><b>Who drinks water?</b></li>\n",
    "    <li><b>Who owns the zebra?</b></li>\n",
    "</ul>"
   ]
  },
  {
   "cell_type": "markdown",
   "metadata": {},
   "source": [
    "First, we have to import the CSP solver."
   ]
  },
  {
   "cell_type": "code",
   "execution_count": 1,
   "metadata": {},
   "outputs": [],
   "source": [
    "%run 02-Backtracking-Constraint-Solver.ipynb"
   ]
  },
  {
   "cell_type": "markdown",
   "metadata": {},
   "source": [
    "In order to succinctly express the constraints that all houses have different colours, the inhabitants have different nationalities etc., it is convenient to implement a function $\\texttt{allDifferent}(V)$ that takes a set of variables $V$ and returns a set of formulas that is true if and only if all the variables from $V$ have different values."
   ]
  },
  {
   "cell_type": "code",
   "execution_count": null,
   "metadata": {},
   "outputs": [],
   "source": [
    "def allDifferent(Variables):\n",
    "    return { f'{x} != {y}' for x in Variables\n",
    "                           for y in Variables\n",
    "                           if  x < y\n",
    "           }"
   ]
  },
  {
   "cell_type": "code",
   "execution_count": 3,
   "metadata": {},
   "outputs": [
    {
     "data": {
      "text/plain": [
       "{'x != y', 'x != z', 'y != z'}"
      ]
     },
     "execution_count": 3,
     "metadata": {},
     "output_type": "execute_result"
    }
   ],
   "source": [
    "allDifferent(['x', 'y', 'z'])"
   ]
  },
  {
   "cell_type": "markdown",
   "metadata": {},
   "source": [
    "The function `next_to` takes two variables representing properties as inputs.\n",
    "It returns a set of formulas that is true if the houses having these properties\n",
    "are next to each other."
   ]
  },
  {
   "cell_type": "code",
   "execution_count": 41,
   "metadata": {},
   "outputs": [],
   "source": [
    "def next_to(x, y):\n",
    "    return {f'abs({x} - {y}) == 1'}"
   ]
  },
  {
   "cell_type": "code",
   "execution_count": 42,
   "metadata": {},
   "outputs": [
    {
     "data": {
      "text/plain": [
       "{'abs(Chesterfields - Fox) == 1'}"
      ]
     },
     "execution_count": 42,
     "metadata": {},
     "output_type": "execute_result"
    }
   ],
   "source": [
    "next_to('Chesterfields', 'Fox')"
   ]
  },
  {
   "cell_type": "markdown",
   "metadata": {},
   "source": [
    "The function $\\texttt{zebraCSP}()$ returns a CSP that codes the zebra problem.  When implementing this function it is important to order the variables in a way that variables that are connected to each other by a constraint are tried in succession, for otherwise the CSP solver will take mu$\\cdots$uch longer."
   ]
  },
  {
   "cell_type": "code",
   "execution_count": 43,
   "metadata": {},
   "outputs": [],
   "source": [
    "Nations   = { \"English\", \"Spanish\", \"Ukrainian\", \"Norwegian\", \"Japanese\" }\n",
    "Drinks    = { \"Coffee\" , \"Tea\", \"Milk\", \"OrangeJuice\", \"Water\" }\n",
    "Pets      = { \"Dog\", \"Snails\", \"Horse\", \"Fox\", \"Zebra\" }\n",
    "Brands    = { \"LuckyStrike\", \"Parliaments\", \"Kools\", \"Chesterfields\", \"OldGold\" }\n",
    "Colours   = { \"Red\", \"Green\", \"Ivory\", \"Yellow\", \"Blue\" }"
   ]
  },
  {
   "cell_type": "code",
   "execution_count": 101,
   "metadata": {},
   "outputs": [],
   "source": [
    "def zebraCSP(): \n",
    "    # Each of the five houses is painted in a different colour, \n",
    "    # their inhabitants are of different nationalities, own different pets, \n",
    "    # drink different beverages, and smoke different brands of cigarettes.\n",
    "    Constraints = allDifferent(Nations)|allDifferent(Drinks)|allDifferent(Pets)|allDifferent(Brands)|allDifferent(Colours)\n",
    "    # There are five houses\n",
    "    Values = { 1, 2, 3, 4, 5 }\n",
    "    # The Englishman lives in the red house.\n",
    "    Constraints |= {'English == Red'}\n",
    "    # The Spaniard owns the dog.\n",
    "    Constraints |= {'Spanish == Dog'}\n",
    "    # Coffee is drunk in the green house.\n",
    "    Constraints |= {'Coffee == Green'}\n",
    "    # The Ukrainian drinks tea.\n",
    "    Constraints |= {'Ukrainian ==Tea'}\n",
    "    # The green house is immediately to the right of the ivory house.\n",
    "    Constraints |= {'Green == Ivory+1'}\n",
    "    # The Old Gold smoker owns snails.\n",
    "    Constraints |= {'OldGold == Snails'}\n",
    "    # Kools are smoked in the yellow house.\n",
    "    Constraints |= {'Kools == Yellow'}\n",
    "    # Milk is drunk in the middle house.\n",
    "    Constraints |= {'Milk == 3'}\n",
    "    # The Norwegian lives in the first house.\n",
    "    Constraints |= {'Norwegian == 1'}\n",
    "    # The man who smokes Chesterfields lives in the house next to the man with the fox.\n",
    "    Constraints |= next_to('Chesterfields', 'Fox')\n",
    "    # Kools are smoked in the house next to the house where the horse is kept.\n",
    "    Constraints |= next_to('Kools', 'Horse')\n",
    "    # The Lucky Strike smoker drinks orange juice.\n",
    "    Constraints |= {'LuckyStrike == OrangeJuice'}\n",
    "    # The Japanese smokes Parliaments.\n",
    "    Constraints |= {'Japanese == Parliaments'}\n",
    "    # The Norwegian lives next to the blue house.\n",
    "    Constraints |= next_to('Norwegian', 'Blue')\n",
    "    Variables = [\"English\", \"Spanish\", \"Ukrainian\", \"Norwegian\", \"Japanese\", \"Coffee\" , \"Tea\", \"Milk\", \"OrangeJuice\", \"Water\", \"Dog\", \"Snails\", \"Horse\", \"Fox\", \"Zebra\", \"LuckyStrike\", \"Parliaments\", \"Kools\", \"Chesterfields\", \"OldGold\", \"Red\", \"Green\", \"Ivory\", \"Yellow\", \"Blue\"]\n",
    "    return Variables, Values, Constraints"
   ]
  },
  {
   "cell_type": "code",
   "execution_count": 102,
   "metadata": {},
   "outputs": [],
   "source": [
    "zebra = zebraCSP()"
   ]
  },
  {
   "cell_type": "code",
   "execution_count": 103,
   "metadata": {},
   "outputs": [
    {
     "data": {
      "text/plain": [
       "(['English',\n",
       "  'Spanish',\n",
       "  'Ukrainian',\n",
       "  'Norwegian',\n",
       "  'Japanese',\n",
       "  'Coffee',\n",
       "  'Tea',\n",
       "  'Milk',\n",
       "  'OrangeJuice',\n",
       "  'Water',\n",
       "  'Dog',\n",
       "  'Snails',\n",
       "  'Horse',\n",
       "  'Fox',\n",
       "  'Zebra',\n",
       "  'LuckyStrike',\n",
       "  'Parliaments',\n",
       "  'Kools',\n",
       "  'Chesterfields',\n",
       "  'OldGold',\n",
       "  'Red',\n",
       "  'Green',\n",
       "  'Ivory',\n",
       "  'Yellow',\n",
       "  'Blue'],\n",
       " {1, 2, 3, 4, 5},\n",
       " {'Blue != Green',\n",
       "  'Blue != Ivory',\n",
       "  'Blue != Red',\n",
       "  'Blue != Yellow',\n",
       "  'Chesterfields != Kools',\n",
       "  'Chesterfields != LuckyStrike',\n",
       "  'Chesterfields != OldGold',\n",
       "  'Chesterfields != Parliaments',\n",
       "  'Coffee != Milk',\n",
       "  'Coffee != OrangeJuice',\n",
       "  'Coffee != Tea',\n",
       "  'Coffee != Water',\n",
       "  'Coffee == Green',\n",
       "  'Dog != Fox',\n",
       "  'Dog != Horse',\n",
       "  'Dog != Snails',\n",
       "  'Dog != Zebra',\n",
       "  'English != Japanese',\n",
       "  'English != Norwegian',\n",
       "  'English != Spanish',\n",
       "  'English != Ukrainian',\n",
       "  'English == Red',\n",
       "  'Fox != Horse',\n",
       "  'Fox != Snails',\n",
       "  'Fox != Zebra',\n",
       "  'Green != Ivory',\n",
       "  'Green != Red',\n",
       "  'Green != Yellow',\n",
       "  'Green == Ivory+1',\n",
       "  'Horse != Snails',\n",
       "  'Horse != Zebra',\n",
       "  'Ivory != Red',\n",
       "  'Ivory != Yellow',\n",
       "  'Japanese != Norwegian',\n",
       "  'Japanese != Spanish',\n",
       "  'Japanese != Ukrainian',\n",
       "  'Japanese == Parliaments',\n",
       "  'Kools != LuckyStrike',\n",
       "  'Kools != OldGold',\n",
       "  'Kools != Parliaments',\n",
       "  'Kools == Yellow',\n",
       "  'LuckyStrike != OldGold',\n",
       "  'LuckyStrike != Parliaments',\n",
       "  'LuckyStrike == OrangeJuice',\n",
       "  'Milk != OrangeJuice',\n",
       "  'Milk != Tea',\n",
       "  'Milk != Water',\n",
       "  'Milk == 3',\n",
       "  'Norwegian != Spanish',\n",
       "  'Norwegian != Ukrainian',\n",
       "  'Norwegian == 1',\n",
       "  'OldGold != Parliaments',\n",
       "  'OldGold == Snails',\n",
       "  'OrangeJuice != Tea',\n",
       "  'OrangeJuice != Water',\n",
       "  'Red != Yellow',\n",
       "  'Snails != Zebra',\n",
       "  'Spanish != Ukrainian',\n",
       "  'Spanish == Dog',\n",
       "  'Tea != Water',\n",
       "  'Ukrainian ==Tea',\n",
       "  'abs(Chesterfields - Fox) == 1',\n",
       "  'abs(Kools - Horse) == 1',\n",
       "  'abs(Norwegian - Blue) == 1'})"
      ]
     },
     "execution_count": 103,
     "metadata": {},
     "output_type": "execute_result"
    }
   ],
   "source": [
    "zebra"
   ]
  },
  {
   "cell_type": "markdown",
   "metadata": {},
   "source": [
    "When the variables are ordered in a sensible way, the problem can be solved in less than a second.  If the variables are ordered randomly, you can expect your computaion to take several minutes."
   ]
  },
  {
   "cell_type": "code",
   "execution_count": 104,
   "metadata": {},
   "outputs": [
    {
     "name": "stdout",
     "output_type": "stream",
     "text": [
      "CPU times: user 388 ms, sys: 271 μs, total: 388 ms\n",
      "Wall time: 417 ms\n"
     ]
    }
   ],
   "source": [
    "%%time\n",
    "solution = solve(zebra)"
   ]
  },
  {
   "cell_type": "code",
   "execution_count": 105,
   "metadata": {},
   "outputs": [
    {
     "data": {
      "text/plain": [
       "{'English': 3,\n",
       " 'Spanish': 4,\n",
       " 'Ukrainian': 2,\n",
       " 'Norwegian': 1,\n",
       " 'Japanese': 5,\n",
       " 'Coffee': 5,\n",
       " 'Tea': 2,\n",
       " 'Milk': 3,\n",
       " 'OrangeJuice': 4,\n",
       " 'Water': 1,\n",
       " 'Dog': 4,\n",
       " 'Snails': 3,\n",
       " 'Horse': 2,\n",
       " 'Fox': 1,\n",
       " 'Zebra': 5,\n",
       " 'LuckyStrike': 4,\n",
       " 'Parliaments': 5,\n",
       " 'Kools': 1,\n",
       " 'Chesterfields': 2,\n",
       " 'OldGold': 3,\n",
       " 'Red': 3,\n",
       " 'Green': 5,\n",
       " 'Ivory': 4,\n",
       " 'Yellow': 1,\n",
       " 'Blue': 2}"
      ]
     },
     "execution_count": 105,
     "metadata": {},
     "output_type": "execute_result"
    }
   ],
   "source": [
    "solution"
   ]
  },
  {
   "cell_type": "markdown",
   "metadata": {},
   "source": [
    "## Functions to Print the Solution"
   ]
  },
  {
   "cell_type": "code",
   "execution_count": 106,
   "metadata": {},
   "outputs": [],
   "source": [
    "from IPython.display import HTML"
   ]
  },
  {
   "cell_type": "code",
   "execution_count": 107,
   "metadata": {},
   "outputs": [],
   "source": [
    "def showHTML(Solution):\n",
    "    result  = '<table style=\"border:2px solid blue\">\\n'\n",
    "    result += '<tr>'\n",
    "    for name in ['House', 'Nationality',  'Drink', 'Animal', 'Brand', 'Colour']:\n",
    "        result += '<th style=\"color:gold; background-color:blue\">' + name + '</th>'\n",
    "    result += '</tr>\\n'\n",
    "    for chair in range(1, 5+1):\n",
    "        result += '<tr><td style=\"border:1px solid green\">' + str(chair) + '</td>'\n",
    "        for Class in [Nations, Drinks, Pets, Brands, Colours]:\n",
    "            for x in Class:\n",
    "                if Solution[x] == chair:\n",
    "                    result += '<td  style=\"border:1px solid green\">' + x + '</td>'\n",
    "        result += '</tr>\\n'\n",
    "    result += '</table>'\n",
    "    display(HTML(result))"
   ]
  },
  {
   "cell_type": "code",
   "execution_count": 108,
   "metadata": {},
   "outputs": [
    {
     "data": {
      "text/html": [
       "<table style=\"border:2px solid blue\">\n",
       "<tr><th style=\"color:gold; background-color:blue\">House</th><th style=\"color:gold; background-color:blue\">Nationality</th><th style=\"color:gold; background-color:blue\">Drink</th><th style=\"color:gold; background-color:blue\">Animal</th><th style=\"color:gold; background-color:blue\">Brand</th><th style=\"color:gold; background-color:blue\">Colour</th></tr>\n",
       "<tr><td style=\"border:1px solid green\">1</td><td  style=\"border:1px solid green\">Norwegian</td><td  style=\"border:1px solid green\">Water</td><td  style=\"border:1px solid green\">Fox</td><td  style=\"border:1px solid green\">Kools</td><td  style=\"border:1px solid green\">Yellow</td></tr>\n",
       "<tr><td style=\"border:1px solid green\">2</td><td  style=\"border:1px solid green\">Ukrainian</td><td  style=\"border:1px solid green\">Tea</td><td  style=\"border:1px solid green\">Horse</td><td  style=\"border:1px solid green\">Chesterfields</td><td  style=\"border:1px solid green\">Blue</td></tr>\n",
       "<tr><td style=\"border:1px solid green\">3</td><td  style=\"border:1px solid green\">English</td><td  style=\"border:1px solid green\">Milk</td><td  style=\"border:1px solid green\">Snails</td><td  style=\"border:1px solid green\">OldGold</td><td  style=\"border:1px solid green\">Red</td></tr>\n",
       "<tr><td style=\"border:1px solid green\">4</td><td  style=\"border:1px solid green\">Spanish</td><td  style=\"border:1px solid green\">OrangeJuice</td><td  style=\"border:1px solid green\">Dog</td><td  style=\"border:1px solid green\">LuckyStrike</td><td  style=\"border:1px solid green\">Ivory</td></tr>\n",
       "<tr><td style=\"border:1px solid green\">5</td><td  style=\"border:1px solid green\">Japanese</td><td  style=\"border:1px solid green\">Coffee</td><td  style=\"border:1px solid green\">Zebra</td><td  style=\"border:1px solid green\">Parliaments</td><td  style=\"border:1px solid green\">Green</td></tr>\n",
       "</table>"
      ],
      "text/plain": [
       "<IPython.core.display.HTML object>"
      ]
     },
     "metadata": {},
     "output_type": "display_data"
    }
   ],
   "source": [
    "showHTML(solution)"
   ]
  },
  {
   "cell_type": "markdown",
   "metadata": {},
   "source": [
    "## Checking the Uniqueness"
   ]
  },
  {
   "cell_type": "markdown",
   "metadata": {},
   "source": [
    "The function `negateSolution` takes a dictionary that represents a solution and returns a formula\n",
    "that is true iff one of the variables is different than in the solution."
   ]
  },
  {
   "cell_type": "code",
   "execution_count": 109,
   "metadata": {},
   "outputs": [],
   "source": [
    "def negateSolution(Solution):\n",
    "    return ' or '.join([ f'{var} != {Solution[var]}' for var in Solution])"
   ]
  },
  {
   "cell_type": "code",
   "execution_count": 110,
   "metadata": {},
   "outputs": [
    {
     "data": {
      "text/plain": [
       "'English != 3 or Spanish != 4 or Ukrainian != 2 or Norwegian != 1 or Japanese != 5 or Coffee != 5 or Tea != 2 or Milk != 3 or OrangeJuice != 4 or Water != 1 or Dog != 4 or Snails != 3 or Horse != 2 or Fox != 1 or Zebra != 5 or LuckyStrike != 4 or Parliaments != 5 or Kools != 1 or Chesterfields != 2 or OldGold != 3 or Red != 3 or Green != 5 or Ivory != 4 or Yellow != 1 or Blue != 2'"
      ]
     },
     "execution_count": 110,
     "metadata": {},
     "output_type": "execute_result"
    }
   ],
   "source": [
    "negateSolution(solution)"
   ]
  },
  {
   "cell_type": "markdown",
   "metadata": {},
   "source": [
    "The function `checkUniqueness` takes two arguments:\n",
    "* `Solution` is a solution of `CSP`.\n",
    "* `CSP` is a *constraint satisfaction problem*.\n",
    "\n",
    "It tries to compute a new solution for the constraint satisfaction problem that is different from the given solution."
   ]
  },
  {
   "cell_type": "code",
   "execution_count": 111,
   "metadata": {},
   "outputs": [],
   "source": [
    "def checkUniqueness(Solution, CSP):\n",
    "    Vars, Values, Constraints = CSP\n",
    "    NewCSP = Vars, Values, Constraints | { negateSolution(Solution) }\n",
    "    NewSolution = solve(NewCSP)\n",
    "    if NewSolution:\n",
    "        print('The solution is not unique. The alternative solution is:')\n",
    "        showHTML(NewSolution)\n",
    "        return NewSolution\n",
    "    else:\n",
    "        print('Well done! The solution is unique.')"
   ]
  },
  {
   "cell_type": "code",
   "execution_count": 112,
   "metadata": {},
   "outputs": [
    {
     "name": "stdout",
     "output_type": "stream",
     "text": [
      "Well done! The solution is unique.\n",
      "CPU times: user 968 ms, sys: 0 ns, total: 968 ms\n",
      "Wall time: 1.05 s\n"
     ]
    }
   ],
   "source": [
    "%%time \n",
    "checkUniqueness(solution, zebra)"
   ]
  },
  {
   "cell_type": "code",
   "execution_count": null,
   "metadata": {},
   "outputs": [],
   "source": []
  }
 ],
 "metadata": {
  "hide_input": false,
  "kernelspec": {
   "display_name": "Python 3 (ipykernel)",
   "language": "python",
   "name": "python3"
  },
  "language_info": {
   "codemirror_mode": {
    "name": "ipython",
    "version": 3
   },
   "file_extension": ".py",
   "mimetype": "text/x-python",
   "name": "python",
   "nbconvert_exporter": "python",
   "pygments_lexer": "ipython3",
   "version": "3.13.3"
  },
  "toc": {
   "base_numbering": 1,
   "nav_menu": {},
   "number_sections": true,
   "sideBar": true,
   "skip_h1_title": false,
   "title_cell": "Table of Contents",
   "title_sidebar": "Contents",
   "toc_cell": false,
   "toc_position": {},
   "toc_section_display": true,
   "toc_window_display": false
  },
  "varInspector": {
   "cols": {
    "lenName": 16,
    "lenType": 16,
    "lenVar": 40
   },
   "kernels_config": {
    "python": {
     "delete_cmd_postfix": "",
     "delete_cmd_prefix": "del ",
     "library": "var_list.py",
     "varRefreshCmd": "print(var_dic_list())"
    },
    "r": {
     "delete_cmd_postfix": ") ",
     "delete_cmd_prefix": "rm(",
     "library": "var_list.r",
     "varRefreshCmd": "cat(var_dic_list()) "
    }
   },
   "types_to_exclude": [
    "module",
    "function",
    "builtin_function_or_method",
    "instance",
    "_Feature"
   ],
   "window_display": false
  }
 },
 "nbformat": 4,
 "nbformat_minor": 4
}
