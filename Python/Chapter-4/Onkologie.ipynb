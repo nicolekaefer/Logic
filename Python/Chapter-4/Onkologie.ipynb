{
 "cells": [
  {
   "cell_type": "code",
   "execution_count": 1,
   "metadata": {},
   "outputs": [
    {
     "data": {
      "text/html": [
       "<link href='http://fonts.googleapis.com/css?family=Alegreya+Sans:100,300,400,500,700,800,900,100italic,300italic,400italic,500italic,700italic,800italic,900italic' rel='stylesheet' type='text/css'>\n",
       "<link href='http://fonts.googleapis.com/css?family=Arvo:400,700,400italic' rel='stylesheet' type='text/css'>\n",
       "<link href='http://fonts.googleapis.com/css?family=PT+Mono' rel='stylesheet' type='text/css'>\n",
       "<link href='http://fonts.googleapis.com/css?family=Shadows+Into+Light' rel='stylesheet' type='text/css'>\n",
       "<link href='http://fonts.googleapis.com/css?family=Philosopher:400,700,400italic,700italic' rel='stylesheet' type='text/css'>\n",
       "\n",
       "<style>\n",
       "\n",
       "@font-face {\n",
       "    font-family: \"Computer Modern\";\n",
       "    src: url('http://mirrors.ctan.org/fonts/cm-unicode/fonts/otf/cmunss.otf');\n",
       "}\n",
       "\n",
       ".container { width: 100% }\n",
       "\n",
       "/* Formatting for header cells */\n",
       ".text_cell_render h1 {\n",
       "    font-family: 'Philosopher', sans-serif;\n",
       "    font-weight: 400;\n",
       "    font-size: 2.2em;\n",
       "    line-height: 100%;\n",
       "    color: rgb(0, 80, 120);\n",
       "    margin-bottom: 0.1em;\n",
       "    margin-top: 0.1em;\n",
       "    display: block;\n",
       "}\t\n",
       ".text_cell_render h2 {\n",
       "    font-family: 'Philosopher', serif;\n",
       "    font-weight: 400;\n",
       "    font-size: 1.9em;\n",
       "    line-height: 100%;\n",
       "    color: rgb(200,100,0);\n",
       "    margin-bottom: 0.1em;\n",
       "    margin-top: 0.1em;\n",
       "    display: block;\n",
       "}\t\n",
       "\n",
       ".text_cell_render h3 {\n",
       "    font-family: 'Philosopher', serif;\n",
       "    margin-top:12px;\n",
       "    margin-bottom: 3px;\n",
       "    font-style: italic;\n",
       "    color: rgb(94,127,192);\n",
       "}\n",
       "\n",
       ".text_cell_render h4 {\n",
       "    font-family: 'Philosopher', serif;\n",
       "}\n",
       "\n",
       ".text_cell_render h5 {\n",
       "    font-family: 'Alegreya Sans', sans-serif;\n",
       "    font-weight: 300;\n",
       "    font-size: 16pt;\n",
       "    color: grey;\n",
       "    font-style: italic;\n",
       "    margin-bottom: .1em;\n",
       "    margin-top: 0.1em;\n",
       "    display: block;\n",
       "}\n",
       "\n",
       ".text_cell_render h6 {\n",
       "    font-family: 'PT Mono', sans-serif;\n",
       "    font-weight: 300;\n",
       "    font-size: 10pt;\n",
       "    color: grey;\n",
       "    margin-bottom: 1px;\n",
       "    margin-top: 1px;\n",
       "}\n",
       "\n",
       ".text_cell_render em {\n",
       "    font-family: 'Philosopher', sans-serif;\n",
       "    color:        blue;\n",
       "    background-color: rgb(255,220,180);\n",
       "    font-size:    110%;\n",
       "    margin-left:   2px;\n",
       "    margin-right:  2px;\n",
       "    font-weight:   100;\n",
       "}\n",
       "\n",
       ".text_cell_render b {\n",
       "    color:            rgb(255,195,195);\n",
       "    background-color: rgb(0,0,0);\n",
       "    font-size:    110%;\n",
       "    margin-left:   2px;\n",
       "    margin-right:  2px;\n",
       "    font-weight:   650;\n",
       "}\n",
       "\n",
       ".text_cell_render tt {\n",
       "    font-size:    120%;\n",
       "    margin-left:   2px;\n",
       "    margin-right:  2px;\n",
       "    font-weight:   150;\n",
       "}\n",
       "\n",
       ".Codemirror {\n",
       "    font-family: \"PT Mono\";\n",
       "    font-size: 100%;\n",
       "}\n",
       "\n",
       "</style>\n",
       "\n"
      ],
      "text/plain": [
       "<IPython.core.display.HTML object>"
      ]
     },
     "execution_count": 1,
     "metadata": {},
     "output_type": "execute_result"
    }
   ],
   "source": [
    "from IPython.display import HTML\n",
    "HTML(open('../style.css', 'r').read())"
   ]
  },
  {
   "cell_type": "markdown",
   "metadata": {},
   "source": [
    "# Die Onkologie-Station"
   ]
  },
  {
   "cell_type": "markdown",
   "metadata": {},
   "source": [
    "Auf einer Onkologie-Station liegen fünf Patienten in nebeneinander liegenden Zimmern.\n",
    "Bis auf einen  der Patienten hat jeder genau eine Zigaretten-Marke geraucht.\n",
    "Der Patient, der nicht Zigarette geraucht hat, hat Pfeife geraucht.\n",
    "Jeder Patient fährt genau ein Auto und ist\n",
    "an genau einer Krebs-Art erkrankt.  Zusätzlich haben Sie die folgenden Informationen:\n",
    "<ol>\n",
    "<li> Im Zimmer neben Michael wird Camel geraucht. </li>\n",
    "<li> Der Trabant-Fahrer raucht Ernte 23 und liegt im Zimmer neben dem \n",
    "      Zungen-Krebs Patienten. </li>\n",
    "<li> Rolf liegt im letzten Zimmer und hat Kehlkopf-Krebs. </li>\n",
    "<li> Der West-Raucher liegt im ersten Zimmer. </li>\n",
    "<li> Der Mazda-Fahrer hat Zungen-Krebs und liegt neben dem Trabant-Fahrer. </li>\n",
    "<li> Der Nissan-Fahrer liegt neben dem Zungen-Krebs Patient. </li>\n",
    "<li> Rudolf wünscht sich Sterbe-Hilfe und liegt zwischen dem Camel-Raucher und dem Trabant-Fahrer. </li>\n",
    "<li> Der Seat Fahrer hat morgen seinen letzten Geburtstag. </li>\n",
    "<li> Der Luckies Raucher liegt neben dem Patienten mit Lungen-Krebs. </li>\n",
    "<li> Der Camel Raucher liegt neben dem Patienten mit Darm-Krebs. </li>\n",
    "<li> Der Nissan Fahrer liegt neben dem Mazda-Fahrer. </li>\n",
    "<li> Der Mercedes-Fahrer raucht Pfeife und liegt neben dem Camel Raucher. </li>\n",
    "<li> Jens liegt neben dem Luckies Raucher. </li>\n",
    "<li> Der Hodenkrebs-Patient hat gestern seine Eier durchs Klo gespült. </li>\n",
    "</ol>\n",
    "Entwickeln Sie ein <em>Python</em>-Programm, das die folgenden Fragen beantwortet:\n",
    "<ol> \n",
    "<li> Was raucht der Darmkrebs-Patient? </li>\n",
    "<li> Was fährt Kurt für ein Auto? </li>\n",
    "</ol>"
   ]
  },
  {
   "cell_type": "markdown",
   "metadata": {},
   "source": [
    "## Importing the Necessary Modules"
   ]
  },
  {
   "cell_type": "markdown",
   "metadata": {},
   "source": [
    "Our goal is to solve this puzzle by first coding it as a solvability problem of propositional logic and then to solve the resulting set of clauses using the algorithm of Davis and Putnam."
   ]
  },
  {
   "cell_type": "code",
   "execution_count": 2,
   "metadata": {},
   "outputs": [],
   "source": [
    "%%capture\n",
    "%run 07-Davis-Putnam-JW.ipynb"
   ]
  },
  {
   "cell_type": "markdown",
   "metadata": {},
   "source": [
    "In order to be able to transform formulas from propositional logic into sets of clauses we import the module <tt>cnf</tt> which implements the function <tt>normalize</tt> that takes a formula and transforms it into a set of clauses."
   ]
  },
  {
   "cell_type": "code",
   "execution_count": 3,
   "metadata": {},
   "outputs": [],
   "source": [
    "%%capture\n",
    "%run 04-CNF.ipynb"
   ]
  },
  {
   "cell_type": "markdown",
   "metadata": {},
   "source": [
    "In order to write formulas conveniently, we use the parser for propositional logic."
   ]
  },
  {
   "cell_type": "code",
   "execution_count": 4,
   "metadata": {},
   "outputs": [],
   "source": [
    "%%capture\n",
    "%run Propositional-Logic-Parser.ipynb"
   ]
  },
  {
   "cell_type": "markdown",
   "metadata": {},
   "source": [
    "Using the parser and the module <tt>cnf</tt> we can impement a function $\\texttt{parseCNF}(s)$ that takes a string $s$ representing a formula and transforms $s$ into an equivalent set of clauses."
   ]
  },
  {
   "cell_type": "code",
   "execution_count": 5,
   "metadata": {},
   "outputs": [],
   "source": [
    "def parseCNF(s):\n",
    "    nestedTuple = parse(s)\n",
    "    Clauses     = normalize(nestedTuple)\n",
    "    return Clauses"
   ]
  },
  {
   "cell_type": "markdown",
   "metadata": {},
   "source": [
    "## Auxiliary Functions"
   ]
  },
  {
   "cell_type": "code",
   "execution_count": 6,
   "metadata": {},
   "outputs": [],
   "source": [
    "def atMostOne(V):\n",
    "    return { frozenset({('¬',p), ('¬', q)}) for p in V\n",
    "                                            for q in V \n",
    "                                            if  p != q \n",
    "           }"
   ]
  },
  {
   "cell_type": "markdown",
   "metadata": {},
   "source": [
    "Given a name $f$ and an index $i \\in\\{1,2,3,4,5\\}$, the function $\\texttt{var}(i)$ creates the string \n",
    "$f\\langle i \\rangle$, e.g. the call <tt>var(\"Japanese\", 2)</tt> returns the following string:\n",
    "\n",
    "<tt>Japanese$\\langle$2$\\rangle$</tt>."
   ]
  },
  {
   "cell_type": "code",
   "execution_count": 7,
   "metadata": {},
   "outputs": [],
   "source": [
    "def var(f, i):\n",
    "    return f + \"<\" + str(i) + \">\" "
   ]
  },
  {
   "cell_type": "code",
   "execution_count": 8,
   "metadata": {},
   "outputs": [
    {
     "data": {
      "text/plain": [
       "'Japanese<2>'"
      ]
     },
     "execution_count": 8,
     "metadata": {},
     "output_type": "execute_result"
    }
   ],
   "source": [
    "var(\"Japanese\", 2)"
   ]
  },
  {
   "cell_type": "markdown",
   "metadata": {},
   "source": [
    "The call $\\texttt{flatten}(\\texttt{LoS})$ takes list of sets $\\texttt{LoS}$ and adds all the sets in this list into one big set. "
   ]
  },
  {
   "cell_type": "code",
   "execution_count": 9,
   "metadata": {},
   "outputs": [],
   "source": [
    "def flatten(ListOfSets):\n",
    "    return {x for S in ListOfSets for x in S}"
   ]
  },
  {
   "cell_type": "code",
   "execution_count": 10,
   "metadata": {},
   "outputs": [
    {
     "data": {
      "text/plain": [
       "{1, 2, 3, 4, 5}"
      ]
     },
     "execution_count": 10,
     "metadata": {},
     "output_type": "execute_result"
    }
   ],
   "source": [
    "flatten([{1,2,3}, {3,4,5}])"
   ]
  },
  {
   "cell_type": "markdown",
   "metadata": {},
   "source": [
    "A call of the form $\\texttt{x}$ will return a clause that specifies that the person with property $x$ has to live in one of the houses from $1$ to $5$."
   ]
  },
  {
   "cell_type": "code",
   "execution_count": 11,
   "metadata": {},
   "outputs": [],
   "source": [
    "def somewhere(x):\n",
    "    return frozenset({ var(x, i) for i in range(1, 5+1) })"
   ]
  },
  {
   "cell_type": "code",
   "execution_count": 12,
   "metadata": {},
   "outputs": [
    {
     "data": {
      "text/plain": [
       "frozenset({'a<1>', 'a<2>', 'a<3>', 'a<4>', 'a<5>'})"
      ]
     },
     "execution_count": 12,
     "metadata": {},
     "output_type": "execute_result"
    }
   ],
   "source": [
    "somewhere(\"a\")"
   ]
  },
  {
   "cell_type": "markdown",
   "metadata": {},
   "source": [
    "Given an exclusive set of properties $S$ and a house number $i$, the function $\\texttt{atMostOne}(S, i)$ returns a set of clauses that specifies that the person living in house number $i$ has at most one of the properties from the set $S$.  For example, if \n",
    "$S = \\{\\texttt{\"Japanese\"}, \\texttt{\"Englishman\"}, \\texttt{\"Spaniard\"}, \\texttt{\"Norwegian\"}, \\texttt{\"Ukranian\"}\\}$, \n",
    "then $\\texttt{atMostOne}(S, 3)$ specifies that the inhabitant of house number 3 has at most one of the nationalities from the set $S$."
   ]
  },
  {
   "cell_type": "code",
   "execution_count": 13,
   "metadata": {},
   "outputs": [],
   "source": [
    "def atMostOneAt(S, i):\n",
    "    return atMostOne({ var(x, i) for x in S })"
   ]
  },
  {
   "cell_type": "code",
   "execution_count": 14,
   "metadata": {},
   "outputs": [
    {
     "data": {
      "text/plain": [
       "{frozenset({('¬', 'A<1>'), ('¬', 'B<1>')}),\n",
       " frozenset({('¬', 'B<1>'), ('¬', 'C<1>')}),\n",
       " frozenset({('¬', 'A<1>'), ('¬', 'C<1>')})}"
      ]
     },
     "execution_count": 14,
     "metadata": {},
     "output_type": "execute_result"
    }
   ],
   "source": [
    "atMostOneAt({\"A\", \"B\", \"C\"}, 1)"
   ]
  },
  {
   "cell_type": "markdown",
   "metadata": {},
   "source": [
    "Implement a function $\\texttt{onePerHouse}(S)$ which could be called as follows:\n",
    "$$\\texttt{onePerHouse}(\\{\\texttt{\"Japanese\"},\n",
    "       \\texttt{\"Englishman\"}, \n",
    "       \\texttt{\"Spaniard\"}, \\texttt{\"Norwegian\"}, \n",
    "       \\texttt{\"Ukranian\"}\\})\n",
    "$$\n",
    "This function would create a set of clauses that expresses that there has to be a house where the Japanese lives, a house where the Englishman lives, a house where the Spaniard lives, a house where the Norwegian lives, and a house\n",
    "where the Ukranian lives.  Furthermore, the set of clauses would create clauses that express that these five persons live in **different** houses.\n",
    "\n",
    "When implementing this function, you should use the functions <tt>somewhere</tt> and <tt>atMostOne</tt>."
   ]
  },
  {
   "cell_type": "code",
   "execution_count": 15,
   "metadata": {},
   "outputs": [],
   "source": [
    "def onePerRoom(S):\n",
    "    return { somewhere(x) for x in S } | flatten([ atMostOneAt(S, i) for i in range(1, 5+1) ])"
   ]
  },
  {
   "cell_type": "code",
   "execution_count": 16,
   "metadata": {},
   "outputs": [
    {
     "data": {
      "text/plain": [
       "{frozenset({('¬', 'A<4>'), ('¬', 'C<4>')}),\n",
       " frozenset({('¬', 'D<2>'), ('¬', 'E<2>')}),\n",
       " frozenset({('¬', 'B<1>'), ('¬', 'C<1>')}),\n",
       " frozenset({('¬', 'D<5>'), ('¬', 'E<5>')}),\n",
       " frozenset({'E<1>', 'E<2>', 'E<3>', 'E<4>', 'E<5>'}),\n",
       " frozenset({('¬', 'A<5>'), ('¬', 'D<5>')}),\n",
       " frozenset({('¬', 'A<2>'), ('¬', 'B<2>')}),\n",
       " frozenset({'B<1>', 'B<2>', 'B<3>', 'B<4>', 'B<5>'}),\n",
       " frozenset({('¬', 'B<5>'), ('¬', 'C<5>')}),\n",
       " frozenset({('¬', 'A<4>'), ('¬', 'D<4>')}),\n",
       " frozenset({('¬', 'B<1>'), ('¬', 'E<1>')}),\n",
       " frozenset({('¬', 'C<1>'), ('¬', 'D<1>')}),\n",
       " frozenset({('¬', 'C<2>'), ('¬', 'D<2>')}),\n",
       " frozenset({('¬', 'C<4>'), ('¬', 'D<4>')}),\n",
       " frozenset({('¬', 'B<3>'), ('¬', 'E<3>')}),\n",
       " frozenset({('¬', 'B<3>'), ('¬', 'C<3>')}),\n",
       " frozenset({('¬', 'C<3>'), ('¬', 'E<3>')}),\n",
       " frozenset({('¬', 'A<3>'), ('¬', 'D<3>')}),\n",
       " frozenset({('¬', 'A<1>'), ('¬', 'C<1>')}),\n",
       " frozenset({('¬', 'A<2>'), ('¬', 'C<2>')}),\n",
       " frozenset({('¬', 'B<5>'), ('¬', 'D<5>')}),\n",
       " frozenset({('¬', 'A<1>'), ('¬', 'D<1>')}),\n",
       " frozenset({('¬', 'C<5>'), ('¬', 'E<5>')}),\n",
       " frozenset({('¬', 'B<2>'), ('¬', 'E<2>')}),\n",
       " frozenset({('¬', 'A<2>'), ('¬', 'D<2>')}),\n",
       " frozenset({('¬', 'A<4>'), ('¬', 'E<4>')}),\n",
       " frozenset({('¬', 'A<3>'), ('¬', 'C<3>')}),\n",
       " frozenset({('¬', 'B<2>'), ('¬', 'C<2>')}),\n",
       " frozenset({('¬', 'B<3>'), ('¬', 'D<3>')}),\n",
       " frozenset({('¬', 'A<5>'), ('¬', 'E<5>')}),\n",
       " frozenset({('¬', 'D<4>'), ('¬', 'E<4>')}),\n",
       " frozenset({('¬', 'B<4>'), ('¬', 'D<4>')}),\n",
       " frozenset({'D<1>', 'D<2>', 'D<3>', 'D<4>', 'D<5>'}),\n",
       " frozenset({'A<1>', 'A<2>', 'A<3>', 'A<4>', 'A<5>'}),\n",
       " frozenset({('¬', 'D<1>'), ('¬', 'E<1>')}),\n",
       " frozenset({('¬', 'A<1>'), ('¬', 'B<1>')}),\n",
       " frozenset({('¬', 'A<5>'), ('¬', 'C<5>')}),\n",
       " frozenset({('¬', 'A<4>'), ('¬', 'B<4>')}),\n",
       " frozenset({'C<1>', 'C<2>', 'C<3>', 'C<4>', 'C<5>'}),\n",
       " frozenset({('¬', 'C<5>'), ('¬', 'D<5>')}),\n",
       " frozenset({('¬', 'C<3>'), ('¬', 'D<3>')}),\n",
       " frozenset({('¬', 'A<3>'), ('¬', 'E<3>')}),\n",
       " frozenset({('¬', 'C<1>'), ('¬', 'E<1>')}),\n",
       " frozenset({('¬', 'A<1>'), ('¬', 'E<1>')}),\n",
       " frozenset({('¬', 'B<1>'), ('¬', 'D<1>')}),\n",
       " frozenset({('¬', 'A<3>'), ('¬', 'B<3>')}),\n",
       " frozenset({('¬', 'B<2>'), ('¬', 'D<2>')}),\n",
       " frozenset({('¬', 'C<4>'), ('¬', 'E<4>')}),\n",
       " frozenset({('¬', 'A<5>'), ('¬', 'B<5>')}),\n",
       " frozenset({('¬', 'B<4>'), ('¬', 'C<4>')}),\n",
       " frozenset({('¬', 'A<2>'), ('¬', 'E<2>')}),\n",
       " frozenset({('¬', 'C<2>'), ('¬', 'E<2>')}),\n",
       " frozenset({('¬', 'B<5>'), ('¬', 'E<5>')}),\n",
       " frozenset({('¬', 'D<3>'), ('¬', 'E<3>')}),\n",
       " frozenset({('¬', 'B<4>'), ('¬', 'E<4>')})}"
      ]
     },
     "execution_count": 16,
     "metadata": {},
     "output_type": "execute_result"
    }
   ],
   "source": [
    "onePerRoom({\"A\", \"B\", \"C\", \"D\", \"E\"})"
   ]
  },
  {
   "cell_type": "markdown",
   "metadata": {},
   "source": [
    "Given to properties $a$ and $b$ the function $\\texttt{sameHouse}(a, b)$ computes a set of clauses that specifies that if the inhabitant of house number $i$ has the property $a$, then he also has the property $b$ and vice versa.  For example, $\\texttt{sameHouse}(\\texttt{\"Japanese\"}, \\texttt{\"Dog\"})$ specifies that the Japanese guy keeps a dog."
   ]
  },
  {
   "cell_type": "code",
   "execution_count": 17,
   "metadata": {},
   "outputs": [],
   "source": [
    "def sameRoom(a, b):\n",
    "    return flatten([ parseCNF(f\"{var(a, i)} ↔ {var(b, i)}\") for i in range(1, 5+1) ])"
   ]
  },
  {
   "cell_type": "code",
   "execution_count": 18,
   "metadata": {},
   "outputs": [
    {
     "data": {
      "text/plain": [
       "{frozenset({('¬', 'Darm<3>'), 'Luckies<3>'}),\n",
       " frozenset({('¬', 'Darm<2>'), 'Luckies<2>'}),\n",
       " frozenset({('¬', 'Darm<5>'), 'Luckies<5>'}),\n",
       " frozenset({('¬', 'Luckies<4>'), 'Darm<4>'}),\n",
       " frozenset({('¬', 'Luckies<2>'), 'Darm<2>'}),\n",
       " frozenset({('¬', 'Darm<4>'), 'Luckies<4>'}),\n",
       " frozenset({('¬', 'Darm<1>'), 'Luckies<1>'}),\n",
       " frozenset({('¬', 'Luckies<5>'), 'Darm<5>'}),\n",
       " frozenset({('¬', 'Luckies<1>'), 'Darm<1>'}),\n",
       " frozenset({('¬', 'Luckies<3>'), 'Darm<3>'})}"
      ]
     },
     "execution_count": 18,
     "metadata": {},
     "output_type": "execute_result"
    }
   ],
   "source": [
    "sameRoom(\"Luckies\", \"Darm\")"
   ]
  },
  {
   "cell_type": "markdown",
   "metadata": {},
   "source": [
    "Given to properties $a$ and $b$ the function $\\texttt{differentRoom}(a, b)$ computes a set of clauses that specifies that the inhabitants with properties $a$ and $b$ stay in different rooms. "
   ]
  },
  {
   "cell_type": "code",
   "execution_count": 20,
   "metadata": {},
   "outputs": [],
   "source": [
    "def differentRoom(a, b):\n",
    "    return flatten([ parseCNF(f\"({var(a, i)}  → ¬ {var(b,i)})\") for i in range(1, 5+1) ])"
   ]
  },
  {
   "cell_type": "code",
   "execution_count": 21,
   "metadata": {},
   "outputs": [
    {
     "data": {
      "text/plain": [
       "{frozenset({('¬', 'A<3>'), ('¬', 'B<3>')}),\n",
       " frozenset({('¬', 'A<5>'), ('¬', 'B<5>')}),\n",
       " frozenset({('¬', 'A<1>'), ('¬', 'B<1>')}),\n",
       " frozenset({('¬', 'A<4>'), ('¬', 'B<4>')}),\n",
       " frozenset({('¬', 'A<2>'), ('¬', 'B<2>')})}"
      ]
     },
     "execution_count": 21,
     "metadata": {},
     "output_type": "execute_result"
    }
   ],
   "source": [
    "differentRoom('A', 'B')"
   ]
  },
  {
   "cell_type": "code",
   "execution_count": 22,
   "metadata": {},
   "outputs": [],
   "source": [
    "def nextTo(a, b):\n",
    "    Result = parseCNF(f\"{var(a,1)} → {var(b,2)}\")\n",
    "    for i in [2, 3, 4]:\n",
    "        Result |= parseCNF(f\"{var(a,i)} → {var(b,i-1)} ∨ {var(b,i+1)}\")\n",
    "    Result |= parseCNF(f\"{var(a,5)} → {var(b,4)}\")\n",
    "    return Result"
   ]
  },
  {
   "cell_type": "code",
   "execution_count": 23,
   "metadata": {},
   "outputs": [
    {
     "data": {
      "text/plain": [
       "{frozenset({('¬', 'A<3>'), 'B<2>', 'B<4>'}),\n",
       " frozenset({('¬', 'A<1>'), 'B<2>'}),\n",
       " frozenset({('¬', 'A<5>'), 'B<4>'}),\n",
       " frozenset({('¬', 'A<2>'), 'B<1>', 'B<3>'}),\n",
       " frozenset({('¬', 'A<4>'), 'B<3>', 'B<5>'})}"
      ]
     },
     "execution_count": 23,
     "metadata": {},
     "output_type": "execute_result"
    }
   ],
   "source": [
    "nextTo('A', 'B')"
   ]
  },
  {
   "cell_type": "code",
   "execution_count": 24,
   "metadata": {},
   "outputs": [],
   "source": [
    "Brands   = { \"Camel\", \"Ernte\", \"West\", \"Luckies\", \"Pfeife\" }\n",
    "Cars     = { \"Trabant\", \"Mazda\", \"Nissan\", \"Seat\", \"Mercedes\" }\n",
    "Cancers  = { \"Zunge\", \"Kehlkopf\", \"Lunge\", \"Darm\", \"Hoden\" }\n",
    "Names    = { \"Michael\", \"Rolf\", \"Rudolf\", \"Jens\", \"Kurt\" }"
   ]
  },
  {
   "cell_type": "code",
   "execution_count": 27,
   "metadata": {},
   "outputs": [],
   "source": [
    "def allClauses():\n",
    "    Clauses  = onePerRoom(Brands)\n",
    "    Clauses |= onePerRoom(Cars)\n",
    "    Clauses |= onePerRoom(Cancers)\n",
    "    Clauses |= onePerRoom(Names)\n",
    "    # Im Zimmer neben Michael wird Camel geraucht. \n",
    "    Clauses |= nextTo('Michael', 'Camel')\n",
    "    # Der Trabant-Fahrer raucht Ernte 23 und liegt im Zimmer neben dem \n",
    "    # Zungen-Krebs Patienten. \n",
    "    Clauses |= sameRoom('Trabant', 'Ernte')\n",
    "     Clauses |= nextTo('Trabant', 'Zunge')\n",
    "    # Rolf liegt im letzten Zimmer und hat Kehlkopf-Krebs.\n",
    "    Clauses |= sameRoom('Rolf', 'Kehlkopf')\n",
    "    Clauses |= parseCNF('Rolf<5>')\n",
    "    # Der West-Raucher liegt im ersten Zimmer. \n",
    "    Clauses |= \"your code here\"\n",
    "    # Der Mazda-Fahrer hat Zungen-Krebs und liegt neben dem Trabant-Fahrer. \n",
    "    Clauses |= \"your code here\"\n",
    "    # Der Nissan-Fahrer liegt neben dem Zungen-Krebs Patient. \n",
    "    Clauses |= \"your code here\"\n",
    "    # Rudolf wünscht sich Sterbe-Hilfe und liegt zwischen dem Camel-Raucher und dem Trabant-Fahrer. \n",
    "    Clauses |= \"your code here\"\n",
    "    # Der Luckies Raucher liegt neben dem Patienten mit Lungen-Krebs. \n",
    "    Clauses |= \"your code here\"\n",
    "    # Der Camel Raucher liegt neben dem Patienten mit Darm-Krebs. \n",
    "    Clauses |= \"your code here\" \n",
    "    # Der Nissan Fahrer liegt neben dem Mazda-Fahrer. \n",
    "    Clauses |=  \"your code here\"\n",
    "    # Der Mercedes-Fahrer raucht Pfeife und liegt neben dem Camel Raucher. \n",
    "    Clauses |= \"your code here\"\n",
    "    # Jens liegt neben dem Luckies Raucher. \n",
    "    Clauses |= \"your code here\"\n",
    "    # Der Hodenkrebs-Patient hat gestern seine Eier durchs Klo gespült.\n",
    "    return Clauses"
   ]
  },
  {
   "cell_type": "code",
   "execution_count": null,
   "metadata": {},
   "outputs": [],
   "source": [
    "Clauses = allClauses()\n",
    "Clauses"
   ]
  },
  {
   "cell_type": "markdown",
   "metadata": {},
   "source": [
    "I have got 322 clauses."
   ]
  },
  {
   "cell_type": "code",
   "execution_count": null,
   "metadata": {},
   "outputs": [],
   "source": [
    "len(Clauses)"
   ]
  },
  {
   "cell_type": "code",
   "execution_count": null,
   "metadata": {},
   "outputs": [],
   "source": [
    "def main():\n",
    "    Clauses = allClauses()\n",
    "    return solve(Clauses)"
   ]
  },
  {
   "cell_type": "markdown",
   "metadata": {},
   "source": [
    "Solving the problem takes less than one seconds on my computer."
   ]
  },
  {
   "cell_type": "code",
   "execution_count": null,
   "metadata": {},
   "outputs": [],
   "source": [
    "%%time\n",
    "Solution = main()"
   ]
  },
  {
   "cell_type": "code",
   "execution_count": null,
   "metadata": {},
   "outputs": [],
   "source": [
    "Solution"
   ]
  },
  {
   "cell_type": "markdown",
   "metadata": {},
   "source": [
    "## Pretty Printing the Solution"
   ]
  },
  {
   "cell_type": "code",
   "execution_count": null,
   "metadata": {},
   "outputs": [],
   "source": [
    "from IPython.display import HTML"
   ]
  },
  {
   "cell_type": "code",
   "execution_count": null,
   "metadata": {},
   "outputs": [],
   "source": [
    "def arb(S):\n",
    "    for x in S:\n",
    "        return x"
   ]
  },
  {
   "cell_type": "code",
   "execution_count": null,
   "metadata": {},
   "outputs": [],
   "source": [
    "def extractAssignment(Solution):\n",
    "    Assignment = {}\n",
    "    for Unit in Solution:\n",
    "        Literal = arb(Unit)\n",
    "        if isinstance(Literal, str):\n",
    "            number = int(Literal[-2])\n",
    "            name   = Literal[:-3]\n",
    "            Assignment[name] = number\n",
    "    return Assignment"
   ]
  },
  {
   "cell_type": "code",
   "execution_count": null,
   "metadata": {},
   "outputs": [],
   "source": [
    "def showHTML(Solution):\n",
    "    result  = '<table style=\"border:2px solid blue\">\\n'\n",
    "    result += '<tr>'\n",
    "    for name in ['Room', 'Brands', 'Cars', 'Cancers', 'Names']:\n",
    "        result += '<th style=\"color:gold; background-color:blue\">' + name + '</th>'\n",
    "    result += '</tr>\\n'\n",
    "    for chair in range(1, 5+1):\n",
    "        result += '<tr><td style=\"border:1px solid green\">' + str(chair) + '</td>'\n",
    "        for Class in [Brands, Cars, Cancers, Names]:\n",
    "            for x in Class:\n",
    "                if Solution[x] == chair:\n",
    "                    result += '<td  style=\"border:1px solid green\">' + x + '</td>'\n",
    "        result += '</tr>\\n'\n",
    "    result += '</table>'\n",
    "    display(HTML(result))"
   ]
  },
  {
   "cell_type": "code",
   "execution_count": null,
   "metadata": {},
   "outputs": [],
   "source": [
    "showHTML(extractAssignment(Solution))"
   ]
  },
  {
   "cell_type": "markdown",
   "metadata": {},
   "source": [
    "## Checking the Uniqueness of the Solution"
   ]
  },
  {
   "cell_type": "markdown",
   "metadata": {},
   "source": [
    "Given a set of unit clauses $U$, the function $\\texttt{checkUniqueness}(U)$ returns a clause that is the negation of the set $U$."
   ]
  },
  {
   "cell_type": "code",
   "execution_count": null,
   "metadata": {},
   "outputs": [],
   "source": [
    "def negateSolution(UnitClauses):\n",
    "    return { complement(arb(unit)) for unit in UnitClauses }"
   ]
  },
  {
   "cell_type": "code",
   "execution_count": null,
   "metadata": {},
   "outputs": [],
   "source": [
    "negateSolution({ frozenset({'a'}), frozenset({('¬', 'b')}) }) "
   ]
  },
  {
   "cell_type": "markdown",
   "metadata": {},
   "source": [
    "The function $\\texttt{checkUniqueness}(\\texttt{Solution}, \\texttt{Clauses})$  takes a set of $\\texttt{Clauses}$ and a $\\texttt{Solution}$ for these clauses and checks, whether this is the only solution."
   ]
  },
  {
   "cell_type": "code",
   "execution_count": null,
   "metadata": {},
   "outputs": [],
   "source": [
    "def checkUniqueness(Solution, Clauses):\n",
    "    negation = negateSolution(Solution)\n",
    "    Clauses.add(frozenset(negation))\n",
    "    alternative = solve(Clauses)\n",
    "    if alternative == { frozenset() }:\n",
    "        print(\"Well done: The solution is unique!\")\n",
    "    else:\n",
    "        print(\"ERROR: The solution is not unique!\")"
   ]
  },
  {
   "cell_type": "code",
   "execution_count": null,
   "metadata": {},
   "outputs": [],
   "source": [
    "checkUniqueness(Solution, Clauses)"
   ]
  },
  {
   "cell_type": "code",
   "execution_count": null,
   "metadata": {},
   "outputs": [],
   "source": []
  }
 ],
 "metadata": {
  "hide_input": false,
  "kernelspec": {
   "display_name": "Python 3 (ipykernel)",
   "language": "python",
   "name": "python3"
  },
  "language_info": {
   "codemirror_mode": {
    "name": "ipython",
    "version": 3
   },
   "file_extension": ".py",
   "mimetype": "text/x-python",
   "name": "python",
   "nbconvert_exporter": "python",
   "pygments_lexer": "ipython3",
   "version": "3.13.3"
  },
  "toc": {
   "base_numbering": 1,
   "nav_menu": {},
   "number_sections": true,
   "sideBar": true,
   "skip_h1_title": false,
   "title_cell": "Table of Contents",
   "title_sidebar": "Contents",
   "toc_cell": false,
   "toc_position": {},
   "toc_section_display": true,
   "toc_window_display": false
  },
  "varInspector": {
   "cols": {
    "lenName": 16,
    "lenType": 16,
    "lenVar": 40
   },
   "kernels_config": {
    "python": {
     "delete_cmd_postfix": "",
     "delete_cmd_prefix": "del ",
     "library": "var_list.py",
     "varRefreshCmd": "print(var_dic_list())"
    },
    "r": {
     "delete_cmd_postfix": ") ",
     "delete_cmd_prefix": "rm(",
     "library": "var_list.r",
     "varRefreshCmd": "cat(var_dic_list()) "
    }
   },
   "types_to_exclude": [
    "module",
    "function",
    "builtin_function_or_method",
    "instance",
    "_Feature"
   ],
   "window_display": false
  }
 },
 "nbformat": 4,
 "nbformat_minor": 4
}
